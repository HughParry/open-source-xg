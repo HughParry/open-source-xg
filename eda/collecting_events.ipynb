{
 "cells": [
  {
   "cell_type": "markdown",
   "metadata": {},
   "source": [
    "Simple inital EDA\n",
    "\n",
    "TODO: these should be reusable methods calling statsbomb/whatever else api"
   ]
  },
  {
   "cell_type": "code",
   "execution_count": null,
   "metadata": {},
   "outputs": [],
   "source": [
    "import json\n",
    "import os\n",
    "\n",
    "# Initialize an empty list to store all data\n",
    "all_data = []\n",
    "\n",
    "# Path to your json files\n",
    "json_folder_path = '../data/raw_matches'\n",
    "\n",
    "# Loop over all json files\n",
    "for file in os.listdir(json_folder_path):\n",
    "    if file.endswith(\".json\"):\n",
    "        with open(os.path.join(json_folder_path, file), 'r') as f:\n",
    "            # Load data from json file and append to all_data list\n",
    "            data = json.load(f)\n",
    "            all_data.extend(data)\n",
    "\n",
    "# Write combined data to new json file\n",
    "with open('combined_data.json', 'w') as f:\n",
    "    json.dump(all_data, f)\n"
   ]
  },
  {
   "cell_type": "code",
   "execution_count": null,
   "metadata": {},
   "outputs": [],
   "source": [
    "import json\n",
    "import os\n",
    "from tqdm import tqdm\n",
    "import pandas as pd\n",
    "\n",
    "# Path to your json files\n",
    "json_folder_path = '../data/events'\n",
    "\n",
    "with open(os.path.join('../data', \"combined_matches.json\"), 'r') as f:\n",
    "    matches = json.load(f)\n",
    "    match_id_list = [str(match['match_id']) for match in matches]\n",
    "\n",
    "# Loop over all json files\n",
    "shot_data = []\n",
    "for file in tqdm(os.listdir(json_folder_path)):\n",
    "    if file.split('.')[0] in match_id_list:\n",
    "        with open(os.path.join(json_folder_path, file), 'r') as f:\n",
    "            # Load data from json file and append to all_data list\n",
    "            match = json.load(f)\n",
    "            for event in match:\n",
    "                if event['type']['name'].lower() == \"shot\".lower():\n",
    "                    for key, val in event[\"shot\"].items():\n",
    "                        event[key] = val\n",
    "                    del event[\"shot\"]\n",
    "                    shot_data.append(event)\n",
    "\n",
    "df = pd.DataFrame(shot_data)\n",
    "df.to_csv('shot_data.csv')"
   ]
  },
  {
   "cell_type": "code",
   "execution_count": null,
   "metadata": {},
   "outputs": [],
   "source": [
    "# Some tidy up\n",
    "\n",
    "df[\"play_pattern\"] = df[\"play_pattern\"].apply(lambda x: x[\"name\"])\n",
    "df[\"position\"] = df[\"position\"].apply(lambda x: x[\"name\"])\n",
    "df[\"x_location\"] = df[\"location\"].apply(lambda x: x[0])\n",
    "df[\"y_location\"] = df[\"location\"].apply(lambda x: x[1])\n",
    "df[\"technique\"] = df[\"technique\"].apply(lambda x: x[\"name\"])\n",
    "df[\"body_part\"] = df[\"body_part\"].apply(lambda x: x[\"name\"])\n",
    "\n",
    "df.to_csv('shot_data_clean.csv')"
   ]
  },
  {
   "cell_type": "code",
   "execution_count": null,
   "metadata": {},
   "outputs": [],
   "source": [
    "df[\"outcome\"] = df[\"outcome\"].apply(lambda x: x[\"name\"])\n",
    "\n",
    "df.to_csv('shot_data_clean.csv')"
   ]
  },
  {
   "cell_type": "code",
   "execution_count": null,
   "metadata": {},
   "outputs": [],
   "source": [
    "# Load the data from the csv file again\n",
    "df = pd.read_csv(\"/mnt/data/shot_data.csv\")\n",
    "\n",
    "# Parse the 'shot' column\n",
    "df['shot'] = df['shot'].apply(parse_dict)\n",
    "\n",
    "# Extract the shot outcome\n",
    "df['shot_outcome_name'] = df['shot'].apply(lambda x: x['outcome']['name'] if 'outcome' in x else np.nan)\n",
    "\n",
    "# Create a binary 'goal' variable\n",
    "df['goal'] = df['shot_outcome_name'].apply(lambda x: 1 if x == 'Goal' else 0)\n",
    "\n",
    "# Display the first few rows of the updated DataFrame\n",
    "df.head()"
   ]
  }
 ],
 "metadata": {
  "kernelspec": {
   "display_name": "Python 3",
   "language": "python",
   "name": "python3"
  },
  "language_info": {
   "codemirror_mode": {
    "name": "ipython",
    "version": 3
   },
   "file_extension": ".py",
   "mimetype": "text/x-python",
   "name": "python",
   "nbconvert_exporter": "python",
   "pygments_lexer": "ipython3",
   "version": "3.10.6"
  },
  "orig_nbformat": 4
 },
 "nbformat": 4,
 "nbformat_minor": 2
}
